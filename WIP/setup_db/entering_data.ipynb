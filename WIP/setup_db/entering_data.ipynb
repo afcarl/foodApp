{
 "cells": [
  {
   "cell_type": "code",
   "execution_count": 1,
   "metadata": {},
   "outputs": [],
   "source": [
    "import py2neo\n",
    "from py2neo import Graph\n",
    "import os\n",
    "import glob\n",
    "from os import listdir\n",
    "from neo4j.v1 import GraphDatabase"
   ]
  },
  {
   "cell_type": "code",
   "execution_count": 2,
   "metadata": {},
   "outputs": [],
   "source": [
    "#connect to graph database\n",
    "my_graph = Graph('bolt://127.0.0.1:7687')"
   ]
  },
  {
   "cell_type": "code",
   "execution_count": 7,
   "metadata": {},
   "outputs": [],
   "source": [
    "new_component = \"'sauteed kale'\"\n",
    "component_includes_1 = \"'sauteed onion and garlic'\"\n",
    "component_includes_2 = \"'kale'\"\n",
    "component_includes = tuple((\"'sauteed onion and garlic'\", \"'kale'\"))"
   ]
  },
  {
   "cell_type": "code",
   "execution_count": 10,
   "metadata": {},
   "outputs": [
    {
     "data": {
      "text/plain": [
       "\"CREATE (s:component {name: 'sauteed kale'})\""
      ]
     },
     "execution_count": 10,
     "metadata": {},
     "output_type": "execute_result"
    }
   ],
   "source": [
    "#creating a new component\n",
    "create_component_query = \"CREATE (s:component {{name: {}}})\".format(new_component)"
   ]
  },
  {
   "cell_type": "code",
   "execution_count": null,
   "metadata": {},
   "outputs": [],
   "source": [
    "component = \"sofrito\"\n",
    "ingredients = [\"onion\",\"garlic\",\"red_pepper\"]\n",
    "# component_includes_1 = \"'sauteed onion and garlic'\"\n",
    "# component_includes_2 = \"'kale'\""
   ]
  },
  {
   "cell_type": "code",
   "execution_count": 8,
   "metadata": {},
   "outputs": [
    {
     "data": {
      "text/plain": [
       "\"MATCH (c1:component {name: 'sauteed kale'}), (c2:component {name: 'sauteed onion and garlic'}),(i:ingredient {name:'kale'}) CREATE (c1)-[:includes]->(c2) CREATE (c1)-[:includes]->(i)\""
      ]
     },
     "execution_count": 8,
     "metadata": {},
     "output_type": "execute_result"
    }
   ],
   "source": [
    "#create the new relationships\n",
    "relationship_query = \"\"\"MATCH (c1:component {{name: {}}}), (c2:component {{name: {}}}),(i:ingredient {{name:{}}}) \n",
    "CREATE (c1)-[:includes]->(c2) CREATE (c1)-[:includes]->(i)\"\"\".format(new_component,component_includes_1,component_includes_2).replace(\"\\n\",\"\")\n",
    "relationship_query"
   ]
  },
  {
   "cell_type": "code",
   "execution_count": null,
   "metadata": {},
   "outputs": [],
   "source": [
    "MATCH (c1:component {name: 'sofrito'}), (i1:ingredient {name: 'onion'}),\n",
    "(i2:ingredient {name:'garlic'}) \n",
    "CREATE (c1)-[:includes]->(i1) CREATE (c1)-[:includes]->(i2)"
   ]
  },
  {
   "cell_type": "code",
   "execution_count": 10,
   "metadata": {},
   "outputs": [],
   "source": [
    "a = my_graph.run(relationship_query)"
   ]
  },
  {
   "cell_type": "code",
   "execution_count": 11,
   "metadata": {},
   "outputs": [
    {
     "data": {
      "text/plain": [
       "[]"
      ]
     },
     "execution_count": 11,
     "metadata": {},
     "output_type": "execute_result"
    }
   ],
   "source": []
  },
  {
   "cell_type": "code",
   "execution_count": null,
   "metadata": {},
   "outputs": [],
   "source": [
    "{'component':new_component, 'includes':['component':component,'ingredient':ingredient]}\n",
    "{'sauteed kale': 'kale', 'includes':[{'component':'sauteed onion and garlic'},{'ingredient':'kale'}]}"
   ]
  },
  {
   "cell_type": "code",
   "execution_count": null,
   "metadata": {},
   "outputs": [],
   "source": []
  }
 ],
 "metadata": {
  "kernelspec": {
   "display_name": "Python 3",
   "language": "python",
   "name": "python3"
  },
  "language_info": {
   "codemirror_mode": {
    "name": "ipython",
    "version": 3
   },
   "file_extension": ".py",
   "mimetype": "text/x-python",
   "name": "python",
   "nbconvert_exporter": "python",
   "pygments_lexer": "ipython3",
   "version": "3.6.3"
  }
 },
 "nbformat": 4,
 "nbformat_minor": 2
}
