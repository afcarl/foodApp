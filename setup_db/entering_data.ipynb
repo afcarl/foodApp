{
 "cells": [
  {
   "cell_type": "code",
   "execution_count": 1,
   "metadata": {},
   "outputs": [],
   "source": [
    "import py2neo\n",
    "from py2neo import Graph\n",
    "import os\n",
    "import glob\n",
    "from os import listdir\n",
    "from neo4j.v1 import GraphDatabase"
   ]
  },
  {
   "cell_type": "code",
   "execution_count": 2,
   "metadata": {},
   "outputs": [],
   "source": [
    "#connect to graph database\n",
    "my_graph = Graph('bolt://127.0.0.1:7687')"
   ]
  },
  {
   "cell_type": "code",
   "execution_count": 3,
   "metadata": {},
   "outputs": [],
   "source": [
    "new_component = \"'sauteed kale'\"\n",
    "component_includes_1 = \"'sauteed onion and garlic'\"\n",
    "component_includes_2 = \"'kale'\"\n",
    "component_includes = tuple((\"'sauteed onion and garlic'\", \"'kale'\"))"
   ]
  },
  {
   "cell_type": "code",
   "execution_count": 10,
   "metadata": {},
   "outputs": [
    {
     "data": {
      "text/plain": [
       "\"CREATE (s:component {name: 'sauteed kale'})\""
      ]
     },
     "execution_count": 10,
     "metadata": {},
     "output_type": "execute_result"
    }
   ],
   "source": [
    "#creating a new component\n",
    "create_component_query = \"CREATE (s:component {{name: {}}})\".format(new_component)"
   ]
  },
  {
   "cell_type": "code",
   "execution_count": 8,
   "metadata": {},
   "outputs": [
    {
     "data": {
      "text/plain": [
       "\"MERGE (:ingredient {name:'kale'})\""
      ]
     },
     "execution_count": 8,
     "metadata": {},
     "output_type": "execute_result"
    }
   ],
   "source": [
    "#add nodes for relationship to new component\n",
    "ingredient = \"kale\"\n",
    "ingredient_format = \"'\" + ingredient + \"'\"\n",
    "merge_query = \"MERGE (:ingredient {{name:{}}})\".format(ingredient_format)\n",
    "merge_query"
   ]
  },
  {
   "cell_type": "code",
   "execution_count": 4,
   "metadata": {},
   "outputs": [
    {
     "data": {
      "text/plain": [
       "\"MERGE (:component {name:'sauteed onion and garlic'}) MERGE (:ingredient {name: 'kale'})\""
      ]
     },
     "execution_count": 4,
     "metadata": {},
     "output_type": "execute_result"
    }
   ],
   "source": [
    "#add nodes for relationship to new component\n",
    "merge_query = \"MERGE (:component {{name:{}}}) MERGE (:ingredient {{name: {}}})\".format(*component_includes)\n",
    "merge_query"
   ]
  },
  {
   "cell_type": "code",
   "execution_count": 45,
   "metadata": {},
   "outputs": [
    {
     "data": {
      "text/plain": [
       "\"MATCH (c1:component {name: 'sauteed kale'}), (c2:component {name: 'sauteed onion and garlic'}),(i:ingredient {name:'kale'}) CREATE (c1)-[:includes]->(c2) CREATE (c1)-[:includes]->(i)\""
      ]
     },
     "execution_count": 45,
     "metadata": {},
     "output_type": "execute_result"
    }
   ],
   "source": [
    "#create the new relationships\n",
    "relationship_query = \"\"\"MATCH (c1:component {{name: {}}}), (c2:component {{name: {}}}),(i:ingredient {{name:{}}}) \n",
    "CREATE (c1)-[:includes]->(c2) CREATE (c1)-[:includes]->(i)\"\"\".format(new_component,component_includes_1,component_includes_2).replace(\"\\n\",\"\")\n",
    "relationship_query"
   ]
  },
  {
   "cell_type": "code",
   "execution_count": 9,
   "metadata": {},
   "outputs": [
    {
     "data": {
      "text/plain": [
       "<py2neo.database.Cursor at 0x108580630>"
      ]
     },
     "execution_count": 9,
     "metadata": {},
     "output_type": "execute_result"
    }
   ],
   "source": [
    "my_graph.run(merge_query)"
   ]
  },
  {
   "cell_type": "code",
   "execution_count": null,
   "metadata": {},
   "outputs": [],
   "source": []
  },
  {
   "cell_type": "code",
   "execution_count": null,
   "metadata": {},
   "outputs": [],
   "source": [
    "{'component':new_component, 'includes':['component':component,'ingredient':ingredient]}\n",
    "{'sauteed kale': 'kale', 'includes':[{'component':'sauteed onion and garlic'},{'ingredient':'kale'}]}"
   ]
  },
  {
   "cell_type": "code",
   "execution_count": null,
   "metadata": {},
   "outputs": [],
   "source": []
  }
 ],
 "metadata": {
  "kernelspec": {
   "display_name": "Python 3",
   "language": "python",
   "name": "python3"
  },
  "language_info": {
   "codemirror_mode": {
    "name": "ipython",
    "version": 3
   },
   "file_extension": ".py",
   "mimetype": "text/x-python",
   "name": "python",
   "nbconvert_exporter": "python",
   "pygments_lexer": "ipython3",
   "version": "3.6.3"
  }
 },
 "nbformat": 4,
 "nbformat_minor": 2
}
