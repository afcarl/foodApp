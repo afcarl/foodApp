{
 "cells": [
  {
   "cell_type": "code",
   "execution_count": 2,
   "metadata": {},
   "outputs": [],
   "source": [
    "import py2neo\n",
    "from py2neo import Graph\n",
    "import os\n",
    "import glob\n",
    "from os import listdir\n",
    "from neo4j.v1 import GraphDatabase"
   ]
  },
  {
   "cell_type": "code",
   "execution_count": 3,
   "metadata": {},
   "outputs": [],
   "source": [
    "#connect to graph database\n",
    "my_graph = Graph('bolt://127.0.0.1:7687')"
   ]
  },
  {
   "cell_type": "code",
   "execution_count": 4,
   "metadata": {},
   "outputs": [],
   "source": [
    "# #writing out the query explictly\n",
    "# query = \"\"\"MATCH (c:component)-[:includes]-(i:ingredient)\n",
    "# where i.name = 'green_beans'\n",
    "# RETURN c\"\"\""
   ]
  },
  {
   "cell_type": "code",
   "execution_count": 5,
   "metadata": {},
   "outputs": [],
   "source": [
    "# #writing out the above but with inserted variable\n",
    "# ingredient = 'green_beans'\n",
    "# query = \"\"\"MATCH (c:component)-[:includes]-(i:ingredient)\n",
    "# where c.name = '{}'\n",
    "# RETURN i\"\"\".format(ingredient)"
   ]
  },
  {
   "cell_type": "code",
   "execution_count": 6,
   "metadata": {},
   "outputs": [],
   "source": [
    "#return all things that are part of the component green_beans\n",
    "ingredient = 'green_beans'\n",
    "query = \"\"\"MATCH (c:component)-[:includes]-(i)\n",
    "where c.name = '{}'\n",
    "RETURN i\"\"\".format(ingredient)"
   ]
  },
  {
   "cell_type": "code",
   "execution_count": 7,
   "metadata": {},
   "outputs": [
    {
     "data": {
      "text/plain": [
       "\"MATCH (c:component)-[:includes]-(i)\\nwhere c.name = 'green_beans'\\nRETURN i\""
      ]
     },
     "execution_count": 7,
     "metadata": {},
     "output_type": "execute_result"
    }
   ],
   "source": [
    "query"
   ]
  },
  {
   "cell_type": "code",
   "execution_count": null,
   "metadata": {},
   "outputs": [],
   "source": []
  },
  {
   "cell_type": "code",
   "execution_count": 8,
   "metadata": {},
   "outputs": [],
   "source": [
    "def get_query_results(ingredient):\n",
    "    my_graph = Graph('bolt://127.0.0.1:7687')\n",
    "    #writing out the query explictly\n",
    "    query = \"\"\"MATCH (c:component)-[:includes]-(i)\n",
    "    where c.name = '{}'\n",
    "    RETURN i\"\"\".format(ingredient)\n",
    "    a = my_graph.run(query)\n",
    "    b = list(a)\n",
    "    ing_list = []\n",
    "    for e in b:\n",
    "        ing_list.append(e.values()[0]['name'])\n",
    "    return ing_list"
   ]
  },
  {
   "cell_type": "code",
   "execution_count": 9,
   "metadata": {},
   "outputs": [
    {
     "data": {
      "text/plain": [
       "['sauteed onion and garlic', 'green_beans']"
      ]
     },
     "execution_count": 9,
     "metadata": {},
     "output_type": "execute_result"
    }
   ],
   "source": [
    "get_query_results('green_beans')"
   ]
  },
  {
   "cell_type": "code",
   "execution_count": 10,
   "metadata": {},
   "outputs": [
    {
     "name": "stdout",
     "output_type": "stream",
     "text": [
      "sauteed onion and garlic\n",
      "green_beans\n"
     ]
    }
   ],
   "source": [
    "# a = my_graph.evaluate(query)\n",
    "a = my_graph.run(query)\n",
    "b = list(a)\n",
    "for e in b:\n",
    "    print(e.values()[0]['name'])\n",
    "    \n",
    "# b"
   ]
  },
  {
   "cell_type": "code",
   "execution_count": 11,
   "metadata": {},
   "outputs": [
    {
     "data": {
      "text/plain": [
       "[('i': (df5e919:component {name:\"sauteed onion and garlic\"})),\n",
       " ('i': (a097a67:ingredient {name:\"green_beans\"}))]"
      ]
     },
     "execution_count": 11,
     "metadata": {},
     "output_type": "execute_result"
    }
   ],
   "source": [
    "b"
   ]
  },
  {
   "cell_type": "code",
   "execution_count": 8,
   "metadata": {},
   "outputs": [
    {
     "ename": "SyntaxError",
     "evalue": "invalid syntax (<ipython-input-8-3cfaa1e666f8>, line 1)",
     "output_type": "error",
     "traceback": [
      "\u001b[0;36m  File \u001b[0;32m\"<ipython-input-8-3cfaa1e666f8>\"\u001b[0;36m, line \u001b[0;32m1\u001b[0m\n\u001b[0;31m    MATCH (node1:Label1)-->(node2:Label2)\u001b[0m\n\u001b[0m                ^\u001b[0m\n\u001b[0;31mSyntaxError\u001b[0m\u001b[0;31m:\u001b[0m invalid syntax\n"
     ]
    }
   ],
   "source": [
    "MATCH (node1:Label1)-->(node2:Label2)\n",
    "WHERE node1.propertyA = {value}\n",
    "RETURN node2.propertyA, node2.propertyB"
   ]
  },
  {
   "cell_type": "code",
   "execution_count": null,
   "metadata": {},
   "outputs": [],
   "source": []
  },
  {
   "cell_type": "code",
   "execution_count": null,
   "metadata": {},
   "outputs": [],
   "source": []
  }
 ],
 "metadata": {
  "kernelspec": {
   "display_name": "Python 3",
   "language": "python",
   "name": "python3"
  },
  "language_info": {
   "codemirror_mode": {
    "name": "ipython",
    "version": 3
   },
   "file_extension": ".py",
   "mimetype": "text/x-python",
   "name": "python",
   "nbconvert_exporter": "python",
   "pygments_lexer": "ipython3",
   "version": "3.6.3"
  }
 },
 "nbformat": 4,
 "nbformat_minor": 2
}
