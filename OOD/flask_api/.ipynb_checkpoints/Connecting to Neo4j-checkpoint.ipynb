{
 "cells": [
  {
   "cell_type": "markdown",
   "metadata": {},
   "source": [
    "#### Connecting to food graph database"
   ]
  },
  {
   "cell_type": "code",
   "execution_count": 6,
   "metadata": {},
   "outputs": [],
   "source": [
    "from py2neo import authenticate, Graph\n",
    "import py2neo\n",
    "from neo4j.v1 import GraphDatabase\n",
    "import json"
   ]
  },
  {
   "cell_type": "code",
   "execution_count": null,
   "metadata": {},
   "outputs": [],
   "source": [
    "def read_config():\n",
    "    data = json.load(open('config.json'))\n",
    "    # port_name = data[\"port_name\"]\n",
    "    return data\n",
    "\n",
    "def connect_to_db():\n",
    "    params = read_config()\n",
    "    password = params['password']\n",
    "    host = params['host']\n",
    "    http_port = params['http_port']\n",
    "    user = params['user']\n",
    "    graph_cnxn = Graph(password=password,host=host,http_port=http_port,user=user)\n",
    "    return graph_cnxn"
   ]
  },
  {
   "cell_type": "code",
   "execution_count": null,
   "metadata": {},
   "outputs": [],
   "source": [
    "graph_cnxn = connect_to_db()"
   ]
  },
  {
   "cell_type": "code",
   "execution_count": 20,
   "metadata": {},
   "outputs": [
    {
     "name": "stdout",
     "output_type": "stream",
     "text": [
      " n                                          i                                   p                                                      \n",
      "---------------------------------------------------------------------------------------------------------------------------------------\n",
      " (a2552c9:component {name:\"sauteed kale\"})  (dc11dc4:ingredient {name:\"kale\"})  (a2552c9)-[:includes {prep_type:\"chopped\"}]->(dc11dc4) \n"
     ]
    }
   ],
   "source": [
    "#example query - these are easier to run and view in the browser\n",
    "# http://ec2-18-218-23-210.us-east-2.compute.amazonaws.com:7474/browser/\n",
    "\n",
    "graph_cnxn.run(\"\"\"match p = (n)-[:includes]-(i) where i.name = 'kale' return n,i,p\"\"\").dump()"
   ]
  }
 ],
 "metadata": {
  "kernelspec": {
   "display_name": "Python 3",
   "language": "python",
   "name": "python3"
  },
  "language_info": {
   "codemirror_mode": {
    "name": "ipython",
    "version": 3
   },
   "file_extension": ".py",
   "mimetype": "text/x-python",
   "name": "python",
   "nbconvert_exporter": "python",
   "pygments_lexer": "ipython3",
   "version": "3.6.3"
  }
 },
 "nbformat": 4,
 "nbformat_minor": 2
}
