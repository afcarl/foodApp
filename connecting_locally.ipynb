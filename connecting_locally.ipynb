{
 "cells": [
  {
   "cell_type": "code",
   "execution_count": 8,
   "metadata": {},
   "outputs": [],
   "source": [
    "from flask import Flask, request, render_template, send_from_directory,jsonify\n",
    "import code\n",
    "from py2neo import authenticate, Graph\n",
    "import py2neo\n",
    "import os\n",
    "import glob\n",
    "import json\n",
    "# import jsonify\n",
    "from os import listdir\n",
    "from py2neo import Graph, Node, NodeSelector\n",
    "from neo4j.v1 import GraphDatabase"
   ]
  },
  {
   "cell_type": "code",
   "execution_count": 12,
   "metadata": {},
   "outputs": [],
   "source": [
    "def read_config():\n",
    "    data = json.load(open('local_config.json'))\n",
    "    # port_name = data[\"port_name\"]\n",
    "    return data\n",
    "\n",
    "def connect_to_db():\n",
    "    params = read_config()\n",
    "    password = params['password']\n",
    "    host = params['host']\n",
    "#     host=\"localhost\"\n",
    "    http_port = params['http_port']\n",
    "    user = params['user']\n",
    "    graph_cnxn = Graph(password=password,host=host,http_port=http_port,user=user)\n",
    "    return graph_cnxn\n",
    "#     return params"
   ]
  },
  {
   "cell_type": "code",
   "execution_count": 10,
   "metadata": {},
   "outputs": [
    {
     "data": {
      "text/plain": [
       "{'host': 'localhost', 'http_port': 7474, 'password': 'food', 'user': 'neo4j'}"
      ]
     },
     "execution_count": 10,
     "metadata": {},
     "output_type": "execute_result"
    }
   ],
   "source": [
    "connect_to_db()"
   ]
  },
  {
   "cell_type": "code",
   "execution_count": 13,
   "metadata": {},
   "outputs": [],
   "source": [
    "def search_ingredient():\n",
    "    graph_name = read_config()\n",
    "    graph_cnxn = connect_to_db()\n",
    "    search_ingredient_query = \"\"\"match p = (n)-[:includes]-(m) where m.name = 'garlic' return n.name\"\"\"\n",
    "    # search_ingredient_query = \"\"\"MATCH (i:ingredient {{name:'{}'}}) return i.name\"\"\".format(search_ingredient)\n",
    "    ingredient_return_cur = graph_cnxn.data(search_ingredient_query)\n",
    "#     ingredient_return = str(ingredient_return_cur.evaluate())\n",
    "#     ingredient_return = ingredient_return_cur.evaluate()\n",
    "    return ingredient_return_cur\n",
    "#     searched_ingredient = [ingredient_return]\n",
    "#     if ingredient_return == 'None':\n",
    "#         searched_ingredient = 'there is no ingredient ' + search_ingredient\n",
    "#     # searched_ingredient = ['garlic']\n",
    "#     return searched_ingredient"
   ]
  },
  {
   "cell_type": "code",
   "execution_count": 14,
   "metadata": {},
   "outputs": [
    {
     "data": {
      "text/plain": [
       "[{'n.name': 'coconut quinoa'},\n",
       " {'n.name': 'black bean salad'},\n",
       " {'n.name': 'beef stir-fry'},\n",
       " {'n.name': 'chicken marinade'},\n",
       " {'n.name': 'salmon'},\n",
       " {'n.name': 'spicy and sweet sweet potato cubes'},\n",
       " {'n.name': 'sofrito'},\n",
       " {'n.name': 'tahini sauce'},\n",
       " {'n.name': 'sauteed onion and garlic'},\n",
       " {'n.name': 'tabouleh'}]"
      ]
     },
     "execution_count": 14,
     "metadata": {},
     "output_type": "execute_result"
    }
   ],
   "source": [
    "search_ingredient()"
   ]
  },
  {
   "cell_type": "code",
   "execution_count": 35,
   "metadata": {},
   "outputs": [],
   "source": [
    "def u(user_id):\n",
    "    return {\n",
    "        \"type\": \"users\",                    # It has to have type\n",
    "        \"id\": user_id,                      # And some unique identifier\n",
    "        \"attributes\": {                     # Here goes actual payload.\n",
    "            \"info\": \"data\" + str(user_id),  # the only data we have for each user is \"info\" field\n",
    "        },\n",
    "    }\n",
    "def users():\n",
    "    ingredient_list = search_ingredient()\n",
    "    return jsonify({\n",
    "        \"data\": [u(i) for i in ingredient_list]\n",
    "#         \"data\": [u(i) for i in range(0,10)]\n",
    "        })"
   ]
  },
  {
   "cell_type": "code",
   "execution_count": 38,
   "metadata": {},
   "outputs": [],
   "source": [
    "ingredient_list = search_ingredient()"
   ]
  },
  {
   "cell_type": "code",
   "execution_count": 40,
   "metadata": {},
   "outputs": [
    {
     "data": {
      "text/plain": [
       "['coconut quinoa',\n",
       " 'black bean salad',\n",
       " 'beef stir-fry',\n",
       " 'chicken marinade',\n",
       " 'salmon',\n",
       " 'spicy and sweet sweet potato cubes',\n",
       " 'sofrito',\n",
       " 'tahini sauce',\n",
       " 'sauteed onion and garlic',\n",
       " 'tabouleh']"
      ]
     },
     "execution_count": 40,
     "metadata": {},
     "output_type": "execute_result"
    }
   ],
   "source": [
    "[i['n.name'] for i in ingredient_list]"
   ]
  },
  {
   "cell_type": "code",
   "execution_count": 23,
   "metadata": {},
   "outputs": [
    {
     "data": {
      "text/plain": [
       "[{'n.name': 'coconut quinoa'},\n",
       " {'n.name': 'black bean salad'},\n",
       " {'n.name': 'beef stir-fry'},\n",
       " {'n.name': 'chicken marinade'},\n",
       " {'n.name': 'salmon'},\n",
       " {'n.name': 'spicy and sweet sweet potato cubes'},\n",
       " {'n.name': 'sofrito'},\n",
       " {'n.name': 'tahini sauce'},\n",
       " {'n.name': 'sauteed onion and garlic'},\n",
       " {'n.name': 'tabouleh'}]"
      ]
     },
     "execution_count": 23,
     "metadata": {},
     "output_type": "execute_result"
    }
   ],
   "source": [
    "cnxn.data(\"\"\"match p = (n)-[:includes]-(m) where m.name = 'garlic' return n.name\"\"\")"
   ]
  },
  {
   "cell_type": "code",
   "execution_count": null,
   "metadata": {},
   "outputs": [],
   "source": [
    " http://localhost:8888/?token=400518c9d89cc522aa336e736ddd5a9bdf8d9eb12be00e54"
   ]
  }
 ],
 "metadata": {
  "kernelspec": {
   "display_name": "Python 3",
   "language": "python",
   "name": "python3"
  },
  "language_info": {
   "codemirror_mode": {
    "name": "ipython",
    "version": 3
   },
   "file_extension": ".py",
   "mimetype": "text/x-python",
   "name": "python",
   "nbconvert_exporter": "python",
   "pygments_lexer": "ipython3",
   "version": "3.6.3"
  }
 },
 "nbformat": 4,
 "nbformat_minor": 2
}
