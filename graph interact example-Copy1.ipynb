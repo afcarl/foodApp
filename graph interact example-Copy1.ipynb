{
 "cells": [
  {
   "cell_type": "code",
   "execution_count": 15,
   "metadata": {},
   "outputs": [
    {
     "data": {
      "application/javascript": [
       "$(\"head\").append($(\"<link/>\").attr({\n",
       "  rel:  \"stylesheet\",\n",
       "  type: \"text/css\",\n",
       "  href: \"https://cdnjs.cloudflare.com/ajax/libs/vis/4.8.2/vis.css\"\n",
       "}));\n",
       "require.config({     paths: {         vis: '//cdnjs.cloudflare.com/ajax/libs/vis/4.8.2/vis.min'     } }); require(['vis'], function(vis) {  window.vis = vis; }); "
      ],
      "text/plain": [
       "<IPython.core.display.Javascript object>"
      ]
     },
     "metadata": {},
     "output_type": "display_data"
    }
   ],
   "source": [
    "# %load_ext cypher\n",
    "import networkx as nx\n",
    "# %load_ext cypher\n",
    "from IPython.display import display\n",
    "import pylab\n",
    "import ipywidgets as widgets\n",
    "import seaborn as sns\n",
    "from ipywidgets import interact\n",
    "# from scripts.vis import draw\n",
    "from py2neo import Node\n",
    "import neo4jupyter\n",
    "neo4jupyter.init_notebook_mode()\n",
    "import py2neo\n",
    "from py2neo import Graph\n",
    "import os\n",
    "import numpy as np\n",
    "import glob\n",
    "from os import listdir\n",
    "from neo4j.v1 import GraphDatabase\n",
    "import numpy as np\n",
    "import matplotlib.pyplot as plt\n",
    "from scipy.integrate import trapz\n",
    "# import networkx as nx"
   ]
  },
  {
   "cell_type": "code",
   "execution_count": 6,
   "metadata": {},
   "outputs": [],
   "source": [
    "%matplotlib inline\n",
    "%matplotlib notebook"
   ]
  },
  {
   "cell_type": "code",
   "execution_count": 52,
   "metadata": {},
   "outputs": [],
   "source": [
    "#connect to graph database\n",
    "my_graph = Graph('http://localhost:7474/')"
   ]
  },
  {
   "cell_type": "code",
   "execution_count": 53,
   "metadata": {},
   "outputs": [
    {
     "name": "stdout",
     "output_type": "stream",
     "text": [
      "('c.name': 'coconut quinoa')\n",
      "('c.name': 'black bean salad')\n",
      "('c.name': 'beef stir-fry')\n",
      "('c.name': 'chicken marinade')\n",
      "('c.name': 'salmon')\n",
      "('c.name': 'spicy and sweet sweet potato cubes')\n",
      "('c.name': 'sofrito')\n",
      "('c.name': 'tahini sauce')\n",
      "('c.name': 'sauteed onion and garlic')\n",
      "('c.name': 'tabouleh')\n"
     ]
    }
   ],
   "source": [
    "query = \"\"\"MATCH p = (c:component) - [:includes]-(i:ingredient) where i.name = 'garlic' return c.name\"\"\"\n",
    "data = my_graph.run(query)\n",
    "for d in data:\n",
    "    print(d)"
   ]
  },
  {
   "cell_type": "code",
   "execution_count": 54,
   "metadata": {},
   "outputs": [
    {
     "name": "stdout",
     "output_type": "stream",
     "text": [
      "10 rows affected.\n"
     ]
    },
    {
     "data": {
      "text/html": [
       "<table>\n",
       "    <tr>\n",
       "        <th>c.name</th>\n",
       "        <th>r.prep_type</th>\n",
       "    </tr>\n",
       "    <tr>\n",
       "        <td>coconut quinoa</td>\n",
       "        <td>grated</td>\n",
       "    </tr>\n",
       "    <tr>\n",
       "        <td>black bean salad</td>\n",
       "        <td>grated</td>\n",
       "    </tr>\n",
       "    <tr>\n",
       "        <td>beef stir-fry</td>\n",
       "        <td>minced</td>\n",
       "    </tr>\n",
       "    <tr>\n",
       "        <td>chicken marinade</td>\n",
       "        <td>minced</td>\n",
       "    </tr>\n",
       "    <tr>\n",
       "        <td>salmon</td>\n",
       "        <td>minced</td>\n",
       "    </tr>\n",
       "    <tr>\n",
       "        <td>spicy and sweet sweet potato cubes</td>\n",
       "        <td>minced</td>\n",
       "    </tr>\n",
       "    <tr>\n",
       "        <td>sofrito</td>\n",
       "        <td>minced</td>\n",
       "    </tr>\n",
       "    <tr>\n",
       "        <td>tahini sauce</td>\n",
       "        <td>minced</td>\n",
       "    </tr>\n",
       "    <tr>\n",
       "        <td>sauteed onion and garlic</td>\n",
       "        <td>minced</td>\n",
       "    </tr>\n",
       "    <tr>\n",
       "        <td>tabouleh</td>\n",
       "        <td>None</td>\n",
       "    </tr>\n",
       "</table>"
      ],
      "text/plain": [
       "[['coconut quinoa', 'grated'],\n",
       " ['black bean salad', 'grated'],\n",
       " ['beef stir-fry', 'minced'],\n",
       " ['chicken marinade', 'minced'],\n",
       " ['salmon', 'minced'],\n",
       " ['spicy and sweet sweet potato cubes', 'minced'],\n",
       " ['sofrito', 'minced'],\n",
       " ['tahini sauce', 'minced'],\n",
       " ['sauteed onion and garlic', 'minced'],\n",
       " ['tabouleh', None]]"
      ]
     },
     "execution_count": 54,
     "metadata": {},
     "output_type": "execute_result"
    }
   ],
   "source": [
    "%%cypher\n",
    "MATCH (c:component) - [r:includes]-(i:ingredient) where i.name = 'garlic'\n",
    "return c.name, r.prep_type"
   ]
  },
  {
   "cell_type": "code",
   "execution_count": 14,
   "metadata": {},
   "outputs": [
    {
     "name": "stdout",
     "output_type": "stream",
     "text": [
      "10 rows affected.\n"
     ]
    },
    {
     "data": {
      "text/plain": [
       "<networkx.classes.multidigraph.MultiDiGraph at 0x10ef000b8>"
      ]
     },
     "execution_count": 14,
     "metadata": {},
     "output_type": "execute_result"
    }
   ],
   "source": [
    "results = %cypher MATCH p =  (c:component) - [r:includes]-(i:ingredient) where i.name = 'garlic' return p\n",
    "# results = %cypher MATCH p =  (c:component) - [r:includes]-(i:ingredient) where i.name = 'garlic' return p\n",
    "g = results.get_graph()\n",
    "# g1 = nx.g()\n",
    "# nx.draw(g,with_labels=True)\n",
    "labels = dict((n,d['name']) for n,d in g.nodes(data = True))\n",
    "# nx.draw(g, labels = labels)\n",
    "g"
   ]
  },
  {
   "cell_type": "code",
   "execution_count": 12,
   "metadata": {},
   "outputs": [],
   "source": [
    "def refreshGraph():\n",
    "    plt.clf()\n",
    "    nx.draw_networkx_nodes(T, pos, nodelist=black, node_color='k', node_size=400, alpha=0.8)\n",
    "    nx.draw_networkx_nodes(T, pos, nodelist=white, node_color='w', node_size=400, alpha=0.8)\n",
    "    nx.draw_networkx_edges(T,pos,width=1.0, alpha=0.5)\n",
    "    plt.axis('off')\n",
    "    plt.axis((-4,4,-1,3))\n",
    "    fig.patch.set_facecolor('white')\n",
    "    plt.show()\n",
    "\n",
    "def onClick(event):\n",
    "    (x,y)   = (event.xdata, event.ydata)\n",
    "\n",
    "    for i in allNodes:            \n",
    "        node = pos[i]\n",
    "        distance = pow(x-node[0],2)+pow(y-node[1],2)\n",
    "        if distance < 0.1:\n",
    "            T.remove_node(i)\n",
    "            if i in black: black.remove(i)\n",
    "            if i in white: white.remove(i)\n",
    "            allNodes.remove(i)\n",
    "            refreshGraph()"
   ]
  },
  {
   "cell_type": "code",
   "execution_count": 13,
   "metadata": {},
   "outputs": [
    {
     "data": {
      "image/png": "[encoded data removed]",
      "text/plain": [
       "<matplotlib.figure.Figure at 0x10e596b38>"
      ]
     },
     "metadata": {},
     "output_type": "display_data"
    }
   ],
   "source": [
    "# %matplotlib inline\n",
    "fig, ax = plt.subplots()\n",
    "fig.canvas.mpl_connect('button_press_event', onClick)\n",
    "\n",
    "T = nx.Graph()\n",
    "\n",
    "### Nodes\n",
    "white, black = [1, 4, 5, 6, 7], [2, 3]\n",
    "allNodes = white+black\n",
    "\n",
    "for node in allNodes:      \n",
    "    T.add_node(node)\n",
    "    ### Edges\n",
    "    T.add_edge(1, 2)\n",
    "    T.add_edge(1, 3)\n",
    "    T.add_edge(2, 4)\n",
    "    T.add_edge(2, 5)\n",
    "    T.add_edge(3, 6)\n",
    "    T.add_edge(3, 7)\n",
    "\n",
    "    ### Positions of the nodes\n",
    "    pos={}\n",
    "    pos[1]=np.array([ 0,0])\n",
    "    pos[2]=np.array([-2,1])\n",
    "    pos[3]=np.array([ 2,1])\n",
    "    pos[4]=np.array([-3,2])\n",
    "    pos[5]=np.array([-1,2])\n",
    "    pos[6]=np.array([ 1,2])\n",
    "    pos[7]=np.array([ 3,2])\n",
    "\n",
    "### Draw nodes and edges\n",
    "refreshGraph()"
   ]
  },
  {
   "cell_type": "code",
   "execution_count": 16,
   "metadata": {},
   "outputs": [
    {
     "data": {
      "image/png": "[encoded data removed]",
      "text/plain": [
       "<matplotlib.figure.Figure at 0x10e405be0>"
      ]
     },
     "metadata": {},
     "output_type": "display_data"
    }
   ],
   "source": [
    "def find_nearest(array,value):\n",
    "    idx = (np.abs(array-value)).argmin()\n",
    "    return array[idx]\n",
    "\n",
    "# Simple mouse click function to store coordinates\n",
    "def onclick(event):\n",
    "    global ix, iy\n",
    "    ix, iy = event.xdata, event.ydata\n",
    "\n",
    "    print ('x = %d, y = %d'%(ix, iy))\n",
    "\n",
    "    # assign global variable to access outside of function\n",
    "    global coords\n",
    "    coords.append((ix, iy))\n",
    "\n",
    "    # Disconnect after 2 clicks\n",
    "    if len(coords) == 2:\n",
    "        fig.canvas.mpl_disconnect(cid)\n",
    "        plt.close(1)\n",
    "    return\n",
    "\n",
    "\n",
    "x = np.arange(-10,10)\n",
    "y = x**2\n",
    "\n",
    "fig = plt.figure(1)\n",
    "ax = fig.add_subplot(111)\n",
    "ax.plot(x,y)\n",
    "\n",
    "coords = []\n",
    "\n",
    "# Call click func\n",
    "cid = fig.canvas.mpl_connect('button_press_event', onclick)\n",
    "\n",
    "plt.show()\n",
    "\n",
    "\n",
    "# # limits for integration\n",
    "# ch1 = np.where(x == (find_nearest(x, coords[0][0])))\n",
    "# ch2 = np.where(x == (find_nearest(x, coords[1][0])))\n",
    "\n",
    "# # Calculate integral\n",
    "# y_int = trapz(y[ch1[0][0]:ch2[0][0]], x = x[ch1[0][0]:ch2[0][0]])\n",
    "\n",
    "# print('')\n",
    "# print('Integral between '+str(coords[0][0])+ ' & ' +str(coords[1][0]))\n",
    "# print(y_int)"
   ]
  },
  {
   "cell_type": "code",
   "execution_count": 17,
   "metadata": {},
   "outputs": [
    {
     "data": {
      "text/plain": [
       "[(-8.2795835907456414, 75.147922155448455),\n",
       " (5.6412646768768191, 32.147554237861996)]"
      ]
     },
     "execution_count": 17,
     "metadata": {},
     "output_type": "execute_result"
    }
   ],
   "source": [
    "coords"
   ]
  },
  {
   "cell_type": "code",
   "execution_count": 23,
   "metadata": {},
   "outputs": [],
   "source": [
    "from __future__ import print_function\n",
    "\n",
    "# import matplotlib\n",
    "%matplotlib inline\n",
    "#matplotlib.use(\"WxAgg\")\n",
    "#matplotlib.use(\"TkAgg\")\n",
    "#matplotlib.use(\"GTKAgg\")\n",
    "#matplotlib.use(\"Qt4Agg\")\n",
    "#matplotlib.use(\"MacOSX\")\n"
   ]
  },
  {
   "cell_type": "code",
   "execution_count": 24,
   "metadata": {},
   "outputs": [
    {
     "data": {
      "image/png": "[encoded data removed]",
      "text/plain": [
       "<matplotlib.figure.Figure at 0x10a4451d0>"
      ]
     },
     "metadata": {},
     "output_type": "display_data"
    }
   ],
   "source": [
    "def OnClick(event):\n",
    "    if event.dblclick:\n",
    "        print(\"DBLCLICK\", event)\n",
    "    else:\n",
    "        print(\"DOWN    \", event)\n",
    "\n",
    "\n",
    "def OnRelease(event):\n",
    "    print(\"UP      \", event)\n",
    "\n",
    "\n",
    "fig = plt.gcf()\n",
    "cid_up = fig.canvas.mpl_connect('button_press_event', OnClick)\n",
    "cid_down = fig.canvas.mpl_connect('button_release_event', OnRelease)\n",
    "\n",
    "plt.gca().text(0.5, 0.5, \"Click on the canvas to test mouse events.\",\n",
    "               ha=\"center\", va=\"center\")\n",
    "\n",
    "plt.show()"
   ]
  },
  {
   "cell_type": "code",
   "execution_count": 21,
   "metadata": {},
   "outputs": [
    {
     "data": {
      "text/plain": [
       "5"
      ]
     },
     "execution_count": 21,
     "metadata": {},
     "output_type": "execute_result"
    }
   ],
   "source": [
    "cid_up"
   ]
  },
  {
   "cell_type": "code",
   "execution_count": 2,
   "metadata": {},
   "outputs": [],
   "source": [
    "import networkx as nx\n",
    "import matplotlib.pyplot as plt\n",
    "import numpy\n",
    "import numpy as np\n"
   ]
  },
  {
   "cell_type": "code",
   "execution_count": 3,
   "metadata": {},
   "outputs": [],
   "source": [
    "def refreshGraph():\n",
    "    plt.clf()\n",
    "    nx.draw_networkx_nodes(T, pos, nodelist=black, node_color='k', node_size=400, alpha=0.8)\n",
    "    nx.draw_networkx_nodes(T, pos, nodelist=white, node_color='w', node_size=400, alpha=0.8)\n",
    "    nx.draw_networkx_edges(T,pos,width=1.0, alpha=0.5)\n",
    "    plt.axis('off')\n",
    "    plt.axis((-4,4,-1,3))\n",
    "    fig.patch.set_facecolor('white')\n",
    "    plt.show()\n",
    "\n",
    "def onClick(event):\n",
    "    (x,y)   = (event.xdata, event.ydata)\n",
    "\n",
    "    for i in allNodes:            \n",
    "        node = pos[i]\n",
    "        distance = pow(x-node[0],2)+pow(y-node[1],2)\n",
    "        if distance < 0.1:\n",
    "            T.remove_node(i)\n",
    "            if i in black: black.remove(i)\n",
    "            if i in white: white.remove(i)\n",
    "            allNodes.remove(i)\n",
    "            refreshGraph()\n"
   ]
  },
  {
   "cell_type": "code",
   "execution_count": 12,
   "metadata": {},
   "outputs": [
    {
     "data": {
      "image/png": "[encoded data removed]",
      "text/plain": [
       "<matplotlib.figure.Figure at 0x10a846828>"
      ]
     },
     "metadata": {},
     "output_type": "display_data"
    }
   ],
   "source": [
    "fig, ax = plt.subplots()\n",
    "fig.canvas.mpl_connect('button_press_event', onClick)\n",
    "\n",
    "T = nx.Graph()\n",
    "\n",
    "### Nodes\n",
    "white, black = [1, 4, 5, 6, 7], [2, 3]\n",
    "allNodes = white+black\n",
    "\n",
    "for node in allNodes:      \n",
    "    T.add_node(node)\n",
    "    ### Edges\n",
    "    T.add_edge(1, 2)\n",
    "    T.add_edge(1, 3)\n",
    "    T.add_edge(2, 4)\n",
    "    T.add_edge(2, 5)\n",
    "    T.add_edge(3, 6)\n",
    "    T.add_edge(3, 7)\n",
    "\n",
    "    ### Positions of the nodes\n",
    "    pos={}\n",
    "    pos[1]=numpy.array([ 0,0])\n",
    "    pos[2]=numpy.array([-2,1])\n",
    "    pos[3]=numpy.array([ 2,1])\n",
    "    pos[4]=numpy.array([-3,2])\n",
    "    pos[5]=numpy.array([-1,2])\n",
    "    pos[6]=numpy.array([ 1,2])\n",
    "    pos[7]=numpy.array([ 3,2])\n",
    "\n",
    "### Draw nodes and edges\n",
    "refreshGraph()"
   ]
  },
  {
   "cell_type": "code",
   "execution_count": null,
   "metadata": {},
   "outputs": [],
   "source": []
  }
 ],
 "metadata": {
  "kernelspec": {
   "display_name": "Python 3",
   "language": "python",
   "name": "python3"
  },
  "language_info": {
   "codemirror_mode": {
    "name": "ipython",
    "version": 3
   },
   "file_extension": ".py",
   "mimetype": "text/x-python",
   "name": "python",
   "nbconvert_exporter": "python",
   "pygments_lexer": "ipython3",
   "version": "3.6.3"
  }
 },
 "nbformat": 4,
 "nbformat_minor": 2
}
