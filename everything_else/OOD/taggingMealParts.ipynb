{
 "cells": [
  {
   "cell_type": "code",
   "execution_count": 66,
   "metadata": {},
   "outputs": [],
   "source": [
    "import pandas as pd\n",
    "import numpy as np"
   ]
  },
  {
   "cell_type": "code",
   "execution_count": 28,
   "metadata": {},
   "outputs": [],
   "source": [
    "mealList = ['isBreakfast','isLunch','isDinner','isSnack']\n",
    "cookList = ['isRaw','isSauteed','isRoasted','isSteamed']\n"
   ]
  },
  {
   "cell_type": "code",
   "execution_count": null,
   "metadata": {},
   "outputs": [],
   "source": [
    "mealTypeDict = {'mealType':{k:0 for k in mealList}}\n",
    "cookTypeDict = {'cookType':{k:0 for k in cookList}}"
   ]
  },
  {
   "cell_type": "code",
   "execution_count": 57,
   "metadata": {},
   "outputs": [],
   "source": [
    "mealTypeList = []\n",
    "#set for Bread\n",
    "mealList = ['isBreakfast','isLunch','isDinner','isSnack']\n",
    "cookList = ['isRaw','isSauteed','isRoasted','isSteamed','isToasted']\n",
    "breadMealBool = [1,1,1,1]\n",
    "breadCookBool = [0,0,0,0,1]\n",
    "breadMealTypeDict = dict(zip(mealList,breadMealBool))\n",
    "breadCookTypeDict = dict(zip(cookList,breadCookBool))\n",
    "breadMealDict = {'mealType':breadMealTypeDict}\n",
    "breadCookDict = {'cookType':breadCookTypeDict}\n",
    "breadDict = {'bread': [breadMealDict,breadCookDict]}\n",
    "mealTypeList.append(breadDict)\n",
    "\n",
    "mealList = ['isBreakfast','isLunch','isDinner','isSnack']\n",
    "cookList = ['isRaw','isSauteed','isRoasted','isSteamed','isToasted']\n",
    "tuberMealBool = [1,1,1,0]\n",
    "tuberCookBool = [0,1,1,0,0]\n",
    "tuberMealTypeDict = dict(zip(mealList,tuberMealBool))\n",
    "tuberCookTypeDict = dict(zip(cookList,tuberCookBool))\n",
    "tuberMealDict = {'mealType':tuberMealTypeDict}\n",
    "tuberCookDict = {'cookType':tuberCookTypeDict}\n",
    "tuberDict = {'tuber': [tuberMealDict,tuberCookDict]}\n",
    "mealTypeList.append(tuberDict)\n",
    "\n",
    "\n",
    "mealList = ['isBreakfast','isLunch','isDinner','isSnack']\n",
    "cookList = ['isRaw','isSauteed','isRoasted','isSteamed','isToasted']\n",
    "gourdMealBool = [0,1,1,0]\n",
    "gourdCookBool = [0,1,1,1,0]\n",
    "gourdMealTypeDict = dict(zip(mealList,gourdMealBool))\n",
    "gourdCookTypeDict = dict(zip(cookList,gourdCookBool))\n",
    "gourdMealDict = {'mealType':gourdMealTypeDict}\n",
    "gourdCookDict = {'cookType':gourdCookTypeDict}\n",
    "gourdDict = {'gourd': [gourdMealDict,gourdCookDict]}\n",
    "mealTypeList.append(gourdDict)\n",
    "\n",
    "\n",
    "mealList = ['isBreakfast','isLunch','isDinner','isSnack']\n",
    "cookList = ['isRaw','isSauteed','isRoasted','isSteamed','isToasted']\n",
    "pastaMealBool = [0,1,1,0]\n",
    "pastaCookBool = [0,1,1,1,0]\n",
    "pastaMealTypeDict = dict(zip(mealList,pastaMealBool))\n",
    "pastaCookTypeDict = dict(zip(cookList,pastaCookBool))\n",
    "pastaMealDict = {'mealType':pastaMealTypeDict}\n",
    "pastaCookDict = {'cookType':pastaCookTypeDict}\n",
    "pastaDict = {'pasta': [pastaMealDict,pastaCookDict]}\n",
    "mealTypeList.append(pastaDict)\n",
    "\n",
    "mealList = ['isBreakfast','isLunch','isDinner','isSnack']\n",
    "cookList = ['isRaw','isSauteed','isRoasted','isSteamed','isToasted']\n",
    "grainMealBool = [1,1,1,0]\n",
    "grainCookBool = [0,1,0,1,0]\n",
    "grainMealTypeDict = dict(zip(mealList,grainMealBool))\n",
    "grainCookTypeDict = dict(zip(cookList,grainCookBool))\n",
    "grainMealDict = {'mealType':grainMealTypeDict}\n",
    "grainCookDict = {'cookType':grainCookTypeDict}\n",
    "grainDict = {'grain': [grainMealDict,grainCookDict]}\n",
    "mealTypeList.append(grainDict)"
   ]
  },
  {
   "cell_type": "code",
   "execution_count": 58,
   "metadata": {},
   "outputs": [
    {
     "data": {
      "text/plain": [
       "[{'bread': [{'mealType': {'isBreakfast': 1,\n",
       "     'isDinner': 1,\n",
       "     'isLunch': 1,\n",
       "     'isSnack': 1}},\n",
       "   {'cookType': {'isRaw': 0,\n",
       "     'isRoasted': 0,\n",
       "     'isSauteed': 0,\n",
       "     'isSteamed': 0,\n",
       "     'isToasted': 1}}]},\n",
       " {'tuber': [{'mealType': {'isBreakfast': 1,\n",
       "     'isDinner': 1,\n",
       "     'isLunch': 1,\n",
       "     'isSnack': 0}},\n",
       "   {'cookType': {'isRaw': 0,\n",
       "     'isRoasted': 1,\n",
       "     'isSauteed': 1,\n",
       "     'isSteamed': 0,\n",
       "     'isToasted': 0}}]},\n",
       " {'gourd': [{'mealType': {'isBreakfast': 0,\n",
       "     'isDinner': 1,\n",
       "     'isLunch': 1,\n",
       "     'isSnack': 0}},\n",
       "   {'cookType': {'isRaw': 0,\n",
       "     'isRoasted': 1,\n",
       "     'isSauteed': 1,\n",
       "     'isSteamed': 1,\n",
       "     'isToasted': 0}}]},\n",
       " {'pasta': [{'mealType': {'isBreakfast': 0,\n",
       "     'isDinner': 1,\n",
       "     'isLunch': 1,\n",
       "     'isSnack': 0}},\n",
       "   {'cookType': {'isRaw': 0,\n",
       "     'isRoasted': 1,\n",
       "     'isSauteed': 1,\n",
       "     'isSteamed': 1,\n",
       "     'isToasted': 0}}]},\n",
       " {'grain': [{'mealType': {'isBreakfast': 1,\n",
       "     'isDinner': 1,\n",
       "     'isLunch': 1,\n",
       "     'isSnack': 0}},\n",
       "   {'cookType': {'isRaw': 0,\n",
       "     'isRoasted': 0,\n",
       "     'isSauteed': 1,\n",
       "     'isSteamed': 1,\n",
       "     'isToasted': 0}}]}]"
      ]
     },
     "execution_count": 58,
     "metadata": {},
     "output_type": "execute_result"
    }
   ],
   "source": [
    "mealTypeList"
   ]
  },
  {
   "cell_type": "code",
   "execution_count": 72,
   "metadata": {},
   "outputs": [],
   "source": [
    "vegList = ['leafyGreen','highStarchVeg','wateryVeg','rootVeg','fruit']\n",
    "# highStarchVeg = ['cauliflower','broccoli','asparagus','stringBean']\n",
    "# wateryVeg  = ['tomato','cucumber','zucchini','celery']\n",
    "# rootVeg = ['carrot','potato','beet']\n",
    "starchList = ['grain','tuber','gourd','pasta','bread']\n",
    "proteinList = ['legume','yogurt','seed','nut','meat','egg','processed','fish']"
   ]
  },
  {
   "cell_type": "code",
   "execution_count": 76,
   "metadata": {},
   "outputs": [],
   "source": [
    "df1 = pd.DataFrame({'vegList': vegList})\n",
    "df2 = pd.DataFrame({'starchList':starchList})\n",
    "df3 = pd.DataFrame({'proteinList':proteinList})\n",
    "dfAll = pd.concat([df1,df2,df3],axis = 1)\n",
    "dfAll.to_csv('listsToTag.csv')"
   ]
  },
  {
   "cell_type": "code",
   "execution_count": null,
   "metadata": {},
   "outputs": [],
   "source": []
  }
 ],
 "metadata": {
  "kernelspec": {
   "display_name": "Python 3",
   "language": "python",
   "name": "python3"
  },
  "language_info": {
   "codemirror_mode": {
    "name": "ipython",
    "version": 3
   },
   "file_extension": ".py",
   "mimetype": "text/x-python",
   "name": "python",
   "nbconvert_exporter": "python",
   "pygments_lexer": "ipython3",
   "version": "3.6.3"
  }
 },
 "nbformat": 4,
 "nbformat_minor": 2
}
