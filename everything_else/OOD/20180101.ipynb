{
 "cells": [
  {
   "cell_type": "code",
   "execution_count": 3,
   "metadata": {},
   "outputs": [],
   "source": [
    "import nltk"
   ]
  },
  {
   "cell_type": "code",
   "execution_count": 4,
   "metadata": {},
   "outputs": [],
   "source": [
    "componentTypes = ['starch','protein','vegetable','flavoring']"
   ]
  },
  {
   "cell_type": "code",
   "execution_count": 311,
   "metadata": {},
   "outputs": [],
   "source": [
    "flavoringList = ['topping','sauce','dip','compote','cheese','slaw']"
   ]
  },
  {
   "cell_type": "code",
   "execution_count": 433,
   "metadata": {},
   "outputs": [],
   "source": [
    "starchList = ['grain','tuber','gourd','pasta','bread']\n",
    "proteinList = ['legume','yogurt','seed','nut','meat','egg','processed','fish']"
   ]
  },
  {
   "cell_type": "code",
   "execution_count": 306,
   "metadata": {},
   "outputs": [],
   "source": [
    "proteinList = ['legume','yogurt','seed','nut','meat','egg','processed','fish']"
   ]
  },
  {
   "cell_type": "code",
   "execution_count": 317,
   "metadata": {},
   "outputs": [],
   "source": [
    "vegList = ['leafyGreen','highStarchVeg','wateryVeg','rootVeg','fruit']\n",
    "highStarchVeg = ['cauliflower','broccoli','asparagus','stringBean']\n",
    "wateryVeg  = ['tomato','cucumber','zucchini','celery']\n",
    "rootVeg = ['carrot','potato','beet']"
   ]
  },
  {
   "cell_type": "code",
   "execution_count": 369,
   "metadata": {},
   "outputs": [],
   "source": [
    "mealList = ['isBreakfast','isLunch','isDinner','isSnack']\n",
    "cookList = ['isRaw','isSauteed','isRoasted','isSteamed']"
   ]
  },
  {
   "cell_type": "code",
   "execution_count": 434,
   "metadata": {},
   "outputs": [],
   "source": [
    "mealTypeDict = {'mealType':{k:0 for k in mealList}}\n",
    "cookTypeDict = {'cookType':{k:0 for k in cookList}}"
   ]
  },
  {
   "cell_type": "code",
   "execution_count": 435,
   "metadata": {},
   "outputs": [],
   "source": [
    "starchDictList = [{starch:mealTypeDict} for starch in starchList]"
   ]
  },
  {
   "cell_type": "code",
   "execution_count": 436,
   "metadata": {},
   "outputs": [
    {
     "data": {
      "text/plain": [
       "[{'grain': {'mealType': {'isBreakfast': 0,\n",
       "    'isDinner': 0,\n",
       "    'isLunch': 0,\n",
       "    'isSnack': 0}}},\n",
       " {'tuber': {'mealType': {'isBreakfast': 0,\n",
       "    'isDinner': 0,\n",
       "    'isLunch': 0,\n",
       "    'isSnack': 0}}},\n",
       " {'gourd': {'mealType': {'isBreakfast': 0,\n",
       "    'isDinner': 0,\n",
       "    'isLunch': 0,\n",
       "    'isSnack': 0}}},\n",
       " {'pasta': {'mealType': {'isBreakfast': 0,\n",
       "    'isDinner': 0,\n",
       "    'isLunch': 0,\n",
       "    'isSnack': 0}}},\n",
       " {'bread': {'mealType': {'isBreakfast': 0,\n",
       "    'isDinner': 0,\n",
       "    'isLunch': 0,\n",
       "    'isSnack': 0}}}]"
      ]
     },
     "execution_count": 436,
     "metadata": {},
     "output_type": "execute_result"
    }
   ],
   "source": [
    "starchDictList"
   ]
  },
  {
   "cell_type": "code",
   "execution_count": 471,
   "metadata": {},
   "outputs": [
    {
     "name": "stdout",
     "output_type": "stream",
     "text": [
      "{'grain': {'mealType': {'isBreakfast': None, 'isLunch': None, 'isDinner': None, 'isSnack': None}}}\n"
     ]
    }
   ],
   "source": [
    "#Tagging Starches\n",
    "codedStarchList = []\n",
    "for s in starchDictList:\n",
    "    if next(iter(s)) == 'bread':\n",
    "        valDict = {k:1 for k in s['bread']['mealType'].keys()}\n",
    "        newDict = {'mealType':valDict}\n",
    "        s['bread'] = newDict\n",
    "        codedStarchList.append(s)\n",
    "    if next(iter(s)) == 'grain':\n",
    "        valDict = {k:None for k in s['grain']['mealType'].keys()}\n",
    "#         testDict = dict(s['grain']['mealType'].keys(),[1,2,3,4])\n",
    "        keyList = [next(iter(elem)) for elem in s]\n",
    "        print(s)\n",
    "#         print(keyList)\n",
    "#         print(type(keyList))\n",
    "#         print(testDict)\n",
    "        newDict = {'mealType':valDict}\n",
    "        s['grain'] = newDict\n",
    "        codedStarchList.append(s)\n",
    "\n",
    "\n",
    "#             tList = []\n",
    "#             tList = [next(iter(elem)) for elem in t[1]]\n",
    "#             newDict = dict.fromkeys(tList,1)\n",
    "#             typeDict['mealType'] = newDict\n",
    "#             codedDict[next(iter(t))] = typeDict\n",
    "#             codedStarchList.append(codedDict)\n",
    "#         if t[0] == 'grain':\n",
    "#             typeDict = {}\n",
    "#             tList = []\n",
    "#             tList = [next(iter(elem)) for elem in t[1]]\n",
    "#             newDict = dict.fromkeys(tList,0)\n",
    "#             newDict['isBreakfast'] = 1\n",
    "#             newDict['isLunch'] = 1\n",
    "#             newDict['isDinner'] = 1\n",
    "#             typeDict['mealType'] = newDict\n",
    "#             codedDict[next(iter(t))] = typeDict\n",
    "#             codedStarchList.append(codedDict)\n",
    "#         if t[0] == 'tuber':\n",
    "#             typeDict = {}\n",
    "#             tList = []\n",
    "#             tList = [next(iter(elem)) for elem in t[1]]\n",
    "#             newDict = dict.fromkeys(tList,0)\n",
    "#             newDict['isBreakfast'] = 1\n",
    "#             newDict['isLunch'] = 1\n",
    "#             newDict['isDinner'] = 1\n",
    "#             typeDict['mealType'] = newDict\n",
    "#             codedDict[next(iter(t))] = typeDict\n",
    "#             codedStarchList.append(typeDict)\n",
    "#         if t[0] == 'gourd':\n",
    "#             typeDict = {}\n",
    "#             tList = []\n",
    "#             tList = [next(iter(elem)) for elem in t[1]]\n",
    "#             newDict = dict.fromkeys(tList,0)\n",
    "#             newDict['isLunch'] = 1\n",
    "#             newDict['isDinner'] = 1\n",
    "#             typeDict['mealType'] = newDict\n",
    "#             codedDict[next(iter(t))]  = typeDict\n",
    "#             codedStarchList.append(codedDict)\n",
    "#         if t[0] == 'pasta':\n",
    "#             typeDict = {}\n",
    "#             tList = []\n",
    "#             tList = [next(iter(elem)) for elem in t[1]]\n",
    "#             newDict = dict.fromkeys(tList,0)\n",
    "#             newDict['isLunch'] = 1\n",
    "#             newDict['isDinner'] = 1\n",
    "#             typeDict['mealType'] = newDict\n",
    "#             codedDict[next(iter(t))] = typeDict\n",
    "#             codedStarchList.append(codedDict)      "
   ]
  },
  {
   "cell_type": "code",
   "execution_count": 464,
   "metadata": {},
   "outputs": [
    {
     "data": {
      "text/plain": [
       "[{'grain': {'mealType': {'isBreakfast': None,\n",
       "    'isDinner': None,\n",
       "    'isLunch': None,\n",
       "    'isSnack': None}}},\n",
       " {'bread': {'mealType': {'isBreakfast': 1,\n",
       "    'isDinner': 1,\n",
       "    'isLunch': 1,\n",
       "    'isSnack': 1}}}]"
      ]
     },
     "execution_count": 464,
     "metadata": {},
     "output_type": "execute_result"
    }
   ],
   "source": [
    "codedStarchList"
   ]
  },
  {
   "cell_type": "markdown",
   "metadata": {},
   "source": [
    "#### Tagging vegetables"
   ]
  },
  {
   "cell_type": "code",
   "execution_count": 341,
   "metadata": {},
   "outputs": [
    {
     "data": {
      "text/plain": [
       "[{'leafyGreen': [{'isBreakfast': 0},\n",
       "   {'isLunch': 0},\n",
       "   {'isDinner': 0},\n",
       "   {'isSnack': 0}]},\n",
       " {'highStarchVeg': [{'isBreakfast': 0},\n",
       "   {'isLunch': 0},\n",
       "   {'isDinner': 0},\n",
       "   {'isSnack': 0}]},\n",
       " {'wateryVeg': [{'isBreakfast': 0},\n",
       "   {'isLunch': 0},\n",
       "   {'isDinner': 0},\n",
       "   {'isSnack': 0}]},\n",
       " {'rootVeg': [{'isBreakfast': 0},\n",
       "   {'isLunch': 0},\n",
       "   {'isDinner': 0},\n",
       "   {'isSnack': 0}]},\n",
       " {'fruit': [{'isBreakfast': 0},\n",
       "   {'isLunch': 0},\n",
       "   {'isDinner': 0},\n",
       "   {'isSnack': 0}]}]"
      ]
     },
     "execution_count": 341,
     "metadata": {},
     "output_type": "execute_result"
    }
   ],
   "source": [
    "vegDictList"
   ]
  },
  {
   "cell_type": "code",
   "execution_count": 338,
   "metadata": {},
   "outputs": [
    {
     "name": "stdout",
     "output_type": "stream",
     "text": [
      "leafyGreen\n",
      "highStarchVeg\n",
      "wateryVeg\n",
      "rootVeg\n",
      "fruit\n"
     ]
    }
   ],
   "source": [
    "#Tagging Starches\n",
    "codedVegList = []\n",
    "for s in vegDictList:\n",
    "    for t in s.items():\n",
    "        codedDict = {}\n",
    "        if t[0] in ['leafyGreen','highStarchVeg']:\n",
    "            tList = []\n",
    "            tList = [next(iter(elem)) for elem in t[1]]\n",
    "#             print(tList)\n",
    "            newDict = dict.fromkeys(tList,0)\n",
    "            newDict['isLunch'] = 1\n",
    "            newDict['isDinner'] = 1\n",
    "            codedDict[next(iter(t))] = newDict\n",
    "#             print(codedDict)\n",
    "            codedVegList.append(codedDict)\n",
    "        elif t[0] == 'rootVeg':\n",
    "            tList = []\n",
    "            tList = [next(iter(elem)) for elem in t[1]]\n",
    "            newDict = dict.fromkeys(tList,0)\n",
    "            newDict['isLunch'] = 1\n",
    "            newDict['isDinner'] = 1\n",
    "            newDict['isSnack'] = 1\n",
    "            codedDict[next(iter(t))] = newDict\n",
    "            codedVegList.append(codedDict)"
   ]
  },
  {
   "cell_type": "code",
   "execution_count": null,
   "metadata": {},
   "outputs": [],
   "source": [
    "#Tagging Starches with meal type and cooking type\n",
    "codedVegList = []\n",
    "for s in vegDictList:\n",
    "    for t in s.items():\n",
    "        codedDict = {}\n",
    "        if t[0] == 'leafyGreen':\n",
    "            tList = []\n",
    "            tList = [next(iter(elem)) for elem in t[1]]\n",
    "            newDict = dict.fromkeys(tList,0)\n",
    "            newDict['isLunch'] = 1`\n",
    "            newDict['isDinner'] = 1\n",
    "            codedDict[next(iter(t))] = newDict\n",
    "            codedVegList.append(codedDict)\n",
    "        if t[0] == 'highStarchVeg':\n",
    "            tList = []\n",
    "            tList = [next(iter(elem)) for elem in t[1]]\n",
    "            newDict = dict.fromkeys(tList,0)\n",
    "            newDict['isBreakfast'] = 1\n",
    "            newDict['isLunch'] = 1\n",
    "            newDict['isDinner'] = 1\n",
    "            codedDict[next(iter(t))] = newDict\n",
    "            codedVegList.append(codedDict)\n",
    "        if t[0] == 'rootVeg':\n",
    "            tList = []\n",
    "            tList = [next(iter(elem)) for elem in t[1]]\n",
    "            newDict = dict.fromkeys(tList,0)\n",
    "            newDict['isLunch'] = 1\n",
    "            newDict['isDinner'] = 1\n",
    "            newDict['isSnack'] = 1\n",
    "            codedDict[next(iter(t))] = newDict\n",
    "            codedVegList.append(codedDict)"
   ]
  },
  {
   "cell_type": "markdown",
   "metadata": {},
   "source": [
    "#### Tagging starches"
   ]
  },
  {
   "cell_type": "code",
   "execution_count": 353,
   "metadata": {},
   "outputs": [],
   "source": [
    "#Tagging Starches\n",
    "codedStarchList = []\n",
    "for s in starchDictList:\n",
    "    for t in s.items():\n",
    "        codedDict = {}\n",
    "        if t[0] == 'bread':\n",
    "            typeDict = {}\n",
    "            cookDict = {}\n",
    "            tList = []\n",
    "            tList = [next(iter(elem)) for elem in t[1]]\n",
    "            newDict = dict.fromkeys(tList,1)\n",
    "            typeDict['mealType'] = newDict\n",
    "            codedDict[next(iter(t))] = typeDict\n",
    "            codedStarchList.append(codedDict)\n",
    "        if t[0] == 'grain':\n",
    "            typeDict = {}\n",
    "            tList = []\n",
    "            tList = [next(iter(elem)) for elem in t[1]]\n",
    "            newDict = dict.fromkeys(tList,0)\n",
    "            newDict['isBreakfast'] = 1\n",
    "            newDict['isLunch'] = 1\n",
    "            newDict['isDinner'] = 1\n",
    "            typeDict['mealType'] = newDict\n",
    "            codedDict[next(iter(t))] = typeDict\n",
    "            codedStarchList.append(codedDict)\n",
    "        if t[0] == 'tuber':\n",
    "            typeDict = {}\n",
    "            tList = []\n",
    "            tList = [next(iter(elem)) for elem in t[1]]\n",
    "            newDict = dict.fromkeys(tList,0)\n",
    "            newDict['isBreakfast'] = 1\n",
    "            newDict['isLunch'] = 1\n",
    "            newDict['isDinner'] = 1\n",
    "            typeDict['mealType'] = newDict\n",
    "            codedDict[next(iter(t))] = typeDict\n",
    "            codedStarchList.append(typeDict)\n",
    "        if t[0] == 'gourd':\n",
    "            typeDict = {}\n",
    "            tList = []\n",
    "            tList = [next(iter(elem)) for elem in t[1]]\n",
    "            newDict = dict.fromkeys(tList,0)\n",
    "            newDict['isLunch'] = 1\n",
    "            newDict['isDinner'] = 1\n",
    "            typeDict['mealType'] = newDict\n",
    "            codedDict[next(iter(t))]  = typeDict\n",
    "            codedStarchList.append(codedDict)\n",
    "        if t[0] == 'pasta':\n",
    "            typeDict = {}\n",
    "            tList = []\n",
    "            tList = [next(iter(elem)) for elem in t[1]]\n",
    "            newDict = dict.fromkeys(tList,0)\n",
    "            newDict['isLunch'] = 1\n",
    "            newDict['isDinner'] = 1\n",
    "            typeDict['mealType'] = newDict\n",
    "            codedDict[next(iter(t))] = typeDict\n",
    "            codedStarchList.append(codedDict)      "
   ]
  },
  {
   "cell_type": "code",
   "execution_count": 354,
   "metadata": {},
   "outputs": [
    {
     "data": {
      "text/plain": [
       "[{'grain': {'mealType': {'isBreakfast': 1,\n",
       "    'isDinner': 1,\n",
       "    'isLunch': 1,\n",
       "    'isSnack': 0}}},\n",
       " {'mealType': {'isBreakfast': 1, 'isDinner': 1, 'isLunch': 1, 'isSnack': 0}},\n",
       " {'gourd': {'mealType': {'isBreakfast': 0,\n",
       "    'isDinner': 1,\n",
       "    'isLunch': 1,\n",
       "    'isSnack': 0}}},\n",
       " {'pasta': {'mealType': {'isBreakfast': 0,\n",
       "    'isDinner': 1,\n",
       "    'isLunch': 1,\n",
       "    'isSnack': 0}}},\n",
       " {'bread': {'mealType': {'isBreakfast': 1,\n",
       "    'isDinner': 1,\n",
       "    'isLunch': 1,\n",
       "    'isSnack': 1}}}]"
      ]
     },
     "execution_count": 354,
     "metadata": {},
     "output_type": "execute_result"
    }
   ],
   "source": [
    "codedStarchList"
   ]
  },
  {
   "cell_type": "code",
   "execution_count": 133,
   "metadata": {},
   "outputs": [],
   "source": [
    "newDictList = []\n",
    "for thing in starchDictList:  \n",
    "    for k,v in thing.items():\n",
    "        newDict = {}\n",
    "        newDict[k] = mealDictList\n",
    "        newDictList.append(newDict)\n",
    "    p"
   ]
  },
  {
   "cell_type": "code",
   "execution_count": 147,
   "metadata": {},
   "outputs": [
    {
     "name": "stdout",
     "output_type": "stream",
     "text": [
      "0 {'isBreakfast': 0}\n",
      "1 {'isLunch': 0}\n",
      "2 {'isDinner': 0}\n",
      "3 {'isSnack': 0}\n"
     ]
    }
   ],
   "source": [
    "for st in newDictList:\n",
    "    for s,t in st.items():\n",
    "        if s == 'grain':\n",
    "            for r,w in enumerate(t):\n",
    "#                 print(r,w)\n",
    "                print(r,w)\n",
    "#                 print(w['isBreakfast'])\n",
    "\n",
    "        "
   ]
  },
  {
   "cell_type": "code",
   "execution_count": 104,
   "metadata": {},
   "outputs": [
    {
     "name": "stdout",
     "output_type": "stream",
     "text": [
      "{'isBreakfast': 1}\n",
      "{'isLunch': 1}\n",
      "{'isDinner': 1}\n",
      "{'isSnack': 1}\n"
     ]
    }
   ],
   "source": [
    "for meal in starchDict['gourd']:\n",
    "    print(meal)\n",
    "#     for k,v in meal.items():\n",
    "#         print(k,v)"
   ]
  },
  {
   "cell_type": "code",
   "execution_count": 105,
   "metadata": {},
   "outputs": [
    {
     "data": {
      "text/plain": [
       "{'bread': [{'isBreakfast': 1},\n",
       "  {'isLunch': 1},\n",
       "  {'isDinner': 1},\n",
       "  {'isSnack': 1}],\n",
       " 'gourd': [{'isBreakfast': 1},\n",
       "  {'isLunch': 1},\n",
       "  {'isDinner': 1},\n",
       "  {'isSnack': 1}],\n",
       " 'grain': [{'isBreakfast': 1},\n",
       "  {'isLunch': 1},\n",
       "  {'isDinner': 1},\n",
       "  {'isSnack': 1}],\n",
       " 'pasta': [{'isBreakfast': 1},\n",
       "  {'isLunch': 1},\n",
       "  {'isDinner': 1},\n",
       "  {'isSnack': 1}],\n",
       " 'tuber': [{'isBreakfast': 1},\n",
       "  {'isLunch': 1},\n",
       "  {'isDinner': 1},\n",
       "  {'isSnack': 1}]}"
      ]
     },
     "execution_count": 105,
     "metadata": {},
     "output_type": "execute_result"
    }
   ],
   "source": [
    "starchDict"
   ]
  },
  {
   "cell_type": "code",
   "execution_count": null,
   "metadata": {},
   "outputs": [],
   "source": []
  },
  {
   "cell_type": "code",
   "execution_count": null,
   "metadata": {},
   "outputs": [],
   "source": []
  },
  {
   "cell_type": "code",
   "execution_count": null,
   "metadata": {},
   "outputs": [],
   "source": [
    "= \n",
    "    isBreakfast = 1\n",
    "    isLunch = 1\n",
    "    isDinner = 1\n",
    "    isSnack = 1"
   ]
  },
  {
   "cell_type": "code",
   "execution_count": null,
   "metadata": {},
   "outputs": [],
   "source": [
    "= \n",
    "    isBreakfast = 1\n",
    "    isLunch = 1\n",
    "    isDinner = 1\n",
    "    isSnack = 1"
   ]
  },
  {
   "cell_type": "code",
   "execution_count": null,
   "metadata": {},
   "outputs": [],
   "source": [
    "= \n",
    "    isBreakfast = 1\n",
    "    isLunch = 1\n",
    "    isDinner = 1\n",
    "    isSnack = 1"
   ]
  },
  {
   "cell_type": "code",
   "execution_count": 102,
   "metadata": {},
   "outputs": [
    {
     "data": {
      "text/plain": [
       "[{'isBreakfast': 1}, {'isLunch': 1}, {'isDinner': 1}, {'isSnack': 1}]"
      ]
     },
     "execution_count": 102,
     "metadata": {},
     "output_type": "execute_result"
    }
   ],
   "source": [
    "starchDict['bread']"
   ]
  },
  {
   "cell_type": "code",
   "execution_count": null,
   "metadata": {},
   "outputs": [],
   "source": [
    "{i : chr(65+i) for i in range(4)}"
   ]
  },
  {
   "cell_type": "code",
   "execution_count": 82,
   "metadata": {},
   "outputs": [
    {
     "data": {
      "text/plain": [
       "['isBreakfast', 'isLunch', 'isDinner', 'isSnack']"
      ]
     },
     "execution_count": 82,
     "metadata": {},
     "output_type": "execute_result"
    }
   ],
   "source": [
    "[elem for elem in {k:v for k in mealDict}]"
   ]
  },
  {
   "cell_type": "code",
   "execution_count": 72,
   "metadata": {},
   "outputs": [
    {
     "data": {
      "text/plain": [
       "{'isBreakfast': 0, 'isDinner': 0, 'isLunch': 0, 'isSnack': 0}"
      ]
     },
     "execution_count": 72,
     "metadata": {},
     "output_type": "execute_result"
    }
   ],
   "source": [
    "mealDict"
   ]
  },
  {
   "cell_type": "code",
   "execution_count": 81,
   "metadata": {},
   "outputs": [
    {
     "data": {
      "text/plain": [
       "dict_items([('isBreakfast', 1), ('isLunch', 0), ('isDinner', 0), ('isSnack', 0)])"
      ]
     },
     "execution_count": 81,
     "metadata": {},
     "output_type": "execute_result"
    }
   ],
   "source": [
    "type(starchDict['bread'])\n",
    "starchDict['bread'].items()"
   ]
  },
  {
   "cell_type": "code",
   "execution_count": 70,
   "metadata": {},
   "outputs": [
    {
     "name": "stdout",
     "output_type": "stream",
     "text": [
      "('isBreakfast', 0)\n",
      "('isLunch', 0)\n",
      "('isDinner', 0)\n",
      "('isSnack', 0)\n"
     ]
    }
   ],
   "source": [
    "for d in starchDict['bread'].items():\n",
    "    print(d)"
   ]
  },
  {
   "cell_type": "code",
   "execution_count": 66,
   "metadata": {},
   "outputs": [
    {
     "name": "stdout",
     "output_type": "stream",
     "text": [
      "<class 'tuple'>\n",
      "<class 'tuple'>\n",
      "<class 'tuple'>\n",
      "<class 'tuple'>\n"
     ]
    }
   ],
   "source": [
    "for d in starchDict['bread'].items():\n",
    "    print(type(d))\n",
    "    "
   ]
  },
  {
   "cell_type": "code",
   "execution_count": 13,
   "metadata": {},
   "outputs": [],
   "source": [
    "class starch:\n",
    "    def __init__(self, mealType):\n",
    "        self.m = mealType\n",
    "        \n",
    "    def test(self):\n",
    "        return(self.m)"
   ]
  },
  {
   "cell_type": "code",
   "execution_count": 15,
   "metadata": {},
   "outputs": [],
   "source": [
    "instStarch = starch('breakfast')\n",
    "instStarch.test()"
   ]
  },
  {
   "cell_type": "code",
   "execution_count": 44,
   "metadata": {},
   "outputs": [],
   "source": [
    "mealList = ['isBreakfast','isLunch','isDinner','isSnack']\n",
    "mealDict = dict.fromkeys(mealList,None)"
   ]
  },
  {
   "cell_type": "code",
   "execution_count": 45,
   "metadata": {},
   "outputs": [],
   "source": [
    "mealList = ['isBreakfast','isLunch','isDinner','isSnack']\n",
    "mealDict = dict.fromkeys(mealList,None)\n",
    "starchDict = dict.fromkeys(starchList,mealDict)"
   ]
  },
  {
   "cell_type": "code",
   "execution_count": 46,
   "metadata": {},
   "outputs": [
    {
     "data": {
      "text/plain": [
       "{'bread': {'isBreakfast': None,\n",
       "  'isDinner': None,\n",
       "  'isLunch': None,\n",
       "  'isSnack': None},\n",
       " 'gourd': {'isBreakfast': None,\n",
       "  'isDinner': None,\n",
       "  'isLunch': None,\n",
       "  'isSnack': None},\n",
       " 'grain': {'isBreakfast': None,\n",
       "  'isDinner': None,\n",
       "  'isLunch': None,\n",
       "  'isSnack': None},\n",
       " 'pasta': {'isBreakfast': None,\n",
       "  'isDinner': None,\n",
       "  'isLunch': None,\n",
       "  'isSnack': None},\n",
       " 'tuber': {'isBreakfast': None,\n",
       "  'isDinner': None,\n",
       "  'isLunch': None,\n",
       "  'isSnack': None}}"
      ]
     },
     "execution_count": 46,
     "metadata": {},
     "output_type": "execute_result"
    }
   ],
   "source": [
    "starchDict"
   ]
  },
  {
   "cell_type": "code",
   "execution_count": null,
   "metadata": {},
   "outputs": [],
   "source": []
  }
 ],
 "metadata": {
  "kernelspec": {
   "display_name": "Python 3",
   "language": "python",
   "name": "python3"
  },
  "language_info": {
   "codemirror_mode": {
    "name": "ipython",
    "version": 3
   },
   "file_extension": ".py",
   "mimetype": "text/x-python",
   "name": "python",
   "nbconvert_exporter": "python",
   "pygments_lexer": "ipython3",
   "version": "3.6.3"
  }
 },
 "nbformat": 4,
 "nbformat_minor": 2
}
