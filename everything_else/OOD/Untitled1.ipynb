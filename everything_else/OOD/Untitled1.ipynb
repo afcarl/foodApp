{
 "cells": [
  {
   "cell_type": "code",
   "execution_count": null,
   "metadata": {},
   "outputs": [],
   "source": []
  },
  {
   "cell_type": "code",
   "execution_count": null,
   "metadata": {},
   "outputs": [],
   "source": []
  },
  {
   "cell_type": "code",
   "execution_count": null,
   "metadata": {},
   "outputs": [],
   "source": []
  },
  {
   "cell_type": "code",
   "execution_count": null,
   "metadata": {},
   "outputs": [],
   "source": [
    "\"\"\"create (Tara:Crew {name:'Tara'}), \n",
    "(Sophie:Crew {name:'Sophie'}), (Tara)-[k:KNOWS]->(Sophie),(Tara)-[:k]->(Neo)\n",
    "\"\"\"\n",
    "\n",
    "\"\"\"create (Tahini_Sauce: Component {name: 'Tahini Sauce'}), (Tahini: Ingredient {name: 'Tahini'}), \n",
    "(Lemon_Juice: Ingredient {name: 'Lemon Juice'})\n",
    "(Tahini_Sauce)-[i:includes]->(Tahini), (Tahini_Sauce)-[:i]->(Lemon_Juice)\n",
    "\"\"\"\n",
    "\n",
    "\"\"\"create (Tara:Crew {name:'Tara'}), \n",
    "(Sophie:Crew {name:'Sophie'}), (Tara)-[:IS_BESTIES_WITH {boolean_test:TRUE}]->(Sophie)\n",
    "\"\"\"\n",
    "\n",
    "# return all things who are friends with a crew node, showing the node, realtionships and the things\n",
    "\"\"\"match (n:Crew)-[r:IS_BESTIES_WITH]-(m) where r.boolean_test return n,r,m\"\"\"\n",
    "\n",
    "# return all things who are friends with a crew node \n",
    "\"\"\"match (n:Crew)-[r:IS_BESTIES_WITH]-(m) where r.boolean_test return n\"\"\"\n",
    "\n",
    "\"\"\"match (n:Crew)-[r:IS_BESTIES_WITH]->(m) where r.boolean_test return n as n,r,m\"\"\""
   ]
  }
 ],
 "metadata": {
  "kernelspec": {
   "display_name": "Python 3",
   "language": "python",
   "name": "python3"
  },
  "language_info": {
   "codemirror_mode": {
    "name": "ipython",
    "version": 3
   },
   "file_extension": ".py",
   "mimetype": "text/x-python",
   "name": "python",
   "nbconvert_exporter": "python",
   "pygments_lexer": "ipython3",
   "version": "3.6.3"
  }
 },
 "nbformat": 4,
 "nbformat_minor": 2
}
