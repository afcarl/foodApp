{
 "cells": [
  {
   "cell_type": "code",
   "execution_count": 1,
   "metadata": {},
   "outputs": [],
   "source": [
    "import py2neo\n",
    "from py2neo import Graph\n",
    "import os\n",
    "import glob\n",
    "from os import listdir\n",
    "from neo4j.v1 import GraphDatabase"
   ]
  },
  {
   "cell_type": "markdown",
   "metadata": {},
   "source": [
    "### Connect to Graph"
   ]
  },
  {
   "cell_type": "code",
   "execution_count": 2,
   "metadata": {},
   "outputs": [],
   "source": [
    "#connect to graph database\n",
    "my_graph = Graph('bolt://127.0.0.1:7687')"
   ]
  },
  {
   "cell_type": "markdown",
   "metadata": {},
   "source": [
    "### Commit create statements to database"
   ]
  },
  {
   "cell_type": "code",
   "execution_count": 7,
   "metadata": {},
   "outputs": [],
   "source": [
    "def commit_creates(graph):\n",
    "\n",
    "    #Looks for the queries\n",
    "    query_path = os.path.join(os.getcwd(),'cyper_queries')\n",
    "    query_file_names = [f for f in os.listdir(query_path) if f.endswith('.txt') or f.endswith('.cql')]\n",
    "    already_run_path = os.path.join(os.getcwd(),'cyper_queries/already_run')\n",
    "\n",
    "    for q in query_file_names:\n",
    "        \n",
    "        #create file path\n",
    "        file_path = os.path.join(query_path,q)\n",
    "        \n",
    "        #open query text\n",
    "        query = open(file_path,'r')\n",
    "        \n",
    "        #read and format\n",
    "        query_read = query.read()\n",
    "        query_run = query_read.replace(\"\\n\",\" \")\n",
    "        \n",
    "        #run query to add data\n",
    "        commit_query = graph.run(query_run)\n",
    "        \n",
    "        #move to already_run folder\n",
    "        os.rename(file_path,os.path.join(already_run_path,q))"
   ]
  },
  {
   "cell_type": "markdown",
   "metadata": {},
   "source": [
    "### Adding data to graph"
   ]
  },
  {
   "cell_type": "code",
   "execution_count": 9,
   "metadata": {},
   "outputs": [],
   "source": [
    "friend_query = \"\"\"create (Tara:Crew {name:'Tara'}), \n",
    "(Sophie:Crew {name:'Sophie'}), (Tara)-[k:KNOWS]->(Sophie),(Tara)-[:k]->(Neo)\n",
    "\"\"\""
   ]
  },
  {
   "cell_type": "code",
   "execution_count": 10,
   "metadata": {},
   "outputs": [
    {
     "data": {
      "text/plain": [
       "<py2neo.database.Cursor at 0x1086bdb70>"
      ]
     },
     "execution_count": 10,
     "metadata": {},
     "output_type": "execute_result"
    }
   ],
   "source": [
    "my_graph.run(friend_query)"
   ]
  },
  {
   "cell_type": "code",
   "execution_count": 8,
   "metadata": {},
   "outputs": [],
   "source": [
    "commit_creates(my_graph)"
   ]
  },
  {
   "cell_type": "code",
   "execution_count": 5,
   "metadata": {},
   "outputs": [],
   "source": [
    "def delete_all(graph):\n",
    "    #delete all nodes\n",
    "    delete_query = '''MATCH (n)\n",
    "    DETACH DELETE n'''\n",
    "    graph.run(delete_query)"
   ]
  },
  {
   "cell_type": "code",
   "execution_count": 6,
   "metadata": {},
   "outputs": [],
   "source": [
    "delete_all(my_graph)"
   ]
  }
 ],
 "metadata": {
  "kernelspec": {
   "display_name": "Python 3",
   "language": "python",
   "name": "python3"
  },
  "language_info": {
   "codemirror_mode": {
    "name": "ipython",
    "version": 3
   },
   "file_extension": ".py",
   "mimetype": "text/x-python",
   "name": "python",
   "nbconvert_exporter": "python",
   "pygments_lexer": "ipython3",
   "version": "3.6.3"
  }
 },
 "nbformat": 4,
 "nbformat_minor": 2
}
